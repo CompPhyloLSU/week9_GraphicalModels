{
 "cells": [
  {
   "cell_type": "markdown",
   "metadata": {},
   "source": [
    "# Graphical Model Syntax\n",
    "\n",
    "## Part 1"
   ]
  },
  {
   "cell_type": "markdown",
   "metadata": {},
   "source": [
    "RevBayes uses directed, acyclic graphs (DAGs) to depict model structure. In DAGs, the dependencies among variables flow in one direction only.\n",
    "\n",
    "The first, and simplest, type of node in a graphical model is a constant node. These behave essentially just like standard variables in any programming language, and take fixed values. This is also the only type of node that does not depend on the value of any other node in the graph (it is independent of all other nodes)."
   ]
  },
  {
   "cell_type": "code",
   "execution_count": null,
   "metadata": {
    "collapsed": true
   },
   "outputs": [],
   "source": [
    "# x is a constant node with a fixed value\n",
    "x <- 2.3"
   ]
  },
  {
   "cell_type": "markdown",
   "metadata": {},
   "source": [
    "The next type of node is a deterministic node. The values of deterministic nodes _do_ depend on the values of other nodes, but in a completely deterministic fashion. For instance, a simple deterministic node, `y`, could always have a value that is twice that of `x`."
   ]
  },
  {
   "cell_type": "code",
   "execution_count": null,
   "metadata": {},
   "outputs": [],
   "source": [
    "# Printing the starting value of x\n",
    "print(\"x = \" + x)\n",
    "\n",
    "# Defining y using the syntax for a deterministic node\n",
    "y := 2 * x\n",
    "print(\"y = \" + y)\n",
    "\n",
    "# Updating the value of x, but printing the new value of y\n",
    "# Notice that y itself was never directly changed!\n",
    "x <- 4.7\n",
    "print(\"y = \" + y)"
   ]
  },
  {
   "cell_type": "markdown",
   "metadata": {},
   "source": [
    "Notice how the value of `y` changes as `x` changes, without having to make a new assignment to `y`.\n",
    "\n",
    "More complicated deterministic relationships could depend on the values of two or more other nodes."
   ]
  },
  {
   "cell_type": "code",
   "execution_count": null,
   "metadata": {},
   "outputs": [],
   "source": [
    "# A more complicated deterministic relationship\n",
    "k <- 3\n",
    "m <- 2\n",
    "n := k^m\n",
    "print(\"n = \" + n)"
   ]
  },
  {
   "cell_type": "markdown",
   "metadata": {},
   "source": [
    "The third, and final, type of node in a graphical model is a stochastic node. These nodes represent random variables, whose distribution must be specified when the node is created. The parameters of the stochastic node's distribution can either be fixed or can be determined by other variables (nodes) in the model."
   ]
  },
  {
   "cell_type": "code",
   "execution_count": null,
   "metadata": {},
   "outputs": [],
   "source": [
    "# Specifying the probability of success for a Bernoulli with a constant node\n",
    "p <- 0.5\n",
    "\n",
    "# Creating a new stochastic node to represent the outcome of a Bernoulli trial\n",
    "z ~ dnBernoulli(p)\n",
    "print(\"z = \" + z)"
   ]
  },
  {
   "cell_type": "markdown",
   "metadata": {},
   "source": [
    "Note that each time you assign a distribution to a stochastic node, it draws a new value of the random variable."
   ]
  },
  {
   "cell_type": "code",
   "execution_count": null,
   "metadata": {},
   "outputs": [],
   "source": [
    "for (i in 1:10){\n",
    "    z ~ dnBernoulli(p)\n",
    "    print(\"z = \" + z)\n",
    "}"
   ]
  },
  {
   "cell_type": "markdown",
   "metadata": {},
   "source": [
    "------\n",
    "\n",
    "#### PRACTICE 1\n",
    "\n",
    "In the code block below, repeat what we did above for the Bernoulli distribution, but this time construct a stochastic node whose values are binomially distributed. Remember that the binomial distribution requires __two__ parameters. If you need some help, you can consult the list of RevBayes commands and distributions."
   ]
  },
  {
   "cell_type": "code",
   "execution_count": null,
   "metadata": {
    "collapsed": true
   },
   "outputs": [],
   "source": [
    "# Write Rev code to define a binomial distribution and draw 10 values from it.\n",
    "\n",
    "# YOUR CODE HERE\n",
    "# YOUR CODE HERE"
   ]
  },
  {
   "cell_type": "markdown",
   "metadata": {},
   "source": [
    "-------"
   ]
  },
  {
   "cell_type": "markdown",
   "metadata": {},
   "source": [
    "In order to be able to learn about the unknown values of parameters in our models, we must have a way to include observed data. In the context of graphical models, this is known as clamping. More specifically, we can clamp observations to stochastic nodes (think of the data as the observed values of a set of random variables)."
   ]
  },
  {
   "cell_type": "code",
   "execution_count": null,
   "metadata": {},
   "outputs": [],
   "source": [
    "# Here's a simple example of clamping an observation (success) to a Bernoulli r.v.\n",
    "z.clamp(1)\n",
    "print(\"Clamped value of z is \" + z + \".\")"
   ]
  },
  {
   "cell_type": "markdown",
   "metadata": {},
   "source": [
    "Now that we've got our four basic building blocks in place (constant, deterministic, stochastic, and clamped stochastic nodes), we can begin building more interesting models.\n",
    "\n",
    "If we want to actually learn something about the probability of success, we need to record more than one observation. But since an individual Bernoulli r.v. has only a single outcome, we need to think about recording the outcomes of a series of Bernoulli r.v.s with a shared `p`. We also can't specify the exact value of `p` - otherwise there would be nothing to learn, because we would already know the value with certainty! Instead, we'll assign a prior probability distribution to `p`, which in this case will be a $Beta(1,1)$."
   ]
  },
  {
   "cell_type": "code",
   "execution_count": null,
   "metadata": {},
   "outputs": [],
   "source": [
    "alpha <- 1\n",
    "beta <- 1\n",
    "p ~ dnBeta(alpha,beta)\n",
    "obs <- [1,0,0,1,0,1]\n",
    "for (i in 1:6){\n",
    "    obsNodes[i] ~ dnBernoulli(p)\n",
    "    obsNodes[i].clamp(obs[i])\n",
    "}"
   ]
  },
  {
   "cell_type": "markdown",
   "metadata": {},
   "source": [
    "-----\n",
    "\n",
    "#### PRACTICE 2\n",
    "\n",
    "Try drawing out the full graphical model that we've just specified. Then compare to Figure 2 of Höhna et al (2014).\n",
    "\n",
    "-----"
   ]
  },
  {
   "cell_type": "markdown",
   "metadata": {},
   "source": [
    "-----\n",
    "\n",
    "#### PRACTICE 3\n",
    "\n",
    "How could we, more simply, specify the same model using a single binomial r.v.? Give it a try.\n",
    "\n",
    "-----"
   ]
  },
  {
   "cell_type": "markdown",
   "metadata": {},
   "source": [
    "Now back to the slides."
   ]
  },
  {
   "cell_type": "markdown",
   "metadata": {},
   "source": [
    "## Part 2"
   ]
  },
  {
   "cell_type": "markdown",
   "metadata": {},
   "source": [
    "Here's where we get into setting up an MCMC..."
   ]
  }
 ],
 "metadata": {
  "kernelspec": {
   "display_name": "RevBayes",
   "language": "bash",
   "name": "revbayes_kernel"
  },
  "language_info": {
   "codemirror_mode": {
    "name": "r"
   },
   "file_extension": ".Rev",
   "help_links": [
    {
     "text": "RevBayes",
     "url": "https://revbayes.org"
    },
    {
     "text": "RevBayes Kernel",
     "url": "https://github.com/sdwfrost/revbayes_kernel"
    },
    {
     "text": "MetaKernel Magics",
     "url": "https://github.com/calysto/metakernel/blob/master/metakernel/magics/README.md"
    }
   ],
   "mimetype": "text/x-rsrc",
   "name": "RevBayes",
   "pygments_lexer": "R"
  }
 },
 "nbformat": 4,
 "nbformat_minor": 2
}
